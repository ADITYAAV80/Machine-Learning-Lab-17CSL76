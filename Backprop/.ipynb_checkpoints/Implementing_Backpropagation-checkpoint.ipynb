{
 "cells": [
  {
   "cell_type": "markdown",
   "metadata": {},
   "source": [
    "# Backpropagation"
   ]
  },
  {
   "cell_type": "markdown",
   "metadata": {},
   "source": [
    "Build an Artificial Neural Network by implementing the Backpropagation algorithm and test the same using appropriate data sets."
   ]
  },
  {
   "cell_type": "code",
   "execution_count": 40,
   "metadata": {},
   "outputs": [],
   "source": [
    "import numpy as np"
   ]
  },
  {
   "cell_type": "code",
   "execution_count": 41,
   "metadata": {},
   "outputs": [],
   "source": [
    "import matplotlib.pyplot as plt"
   ]
  },
  {
   "cell_type": "code",
   "execution_count": 55,
   "metadata": {},
   "outputs": [],
   "source": [
    "# Initialize Model Parameters\n",
    "epoch=1000       # Number of times we iterate over the training data during the train process \n",
    "input_layer = 2  # No of neurons in the input layer\n",
    "hidden_layer = 3 # No of neurons in the hidden layer\n",
    "output_layer = 1 # No of neurons in the output layer"
   ]
  },
  {
   "cell_type": "code",
   "execution_count": 56,
   "metadata": {},
   "outputs": [],
   "source": [
    "# Initialize weights and biases\n",
    "\n",
    "# Hidden Layer\n",
    "wh = np.random.uniform(size=(input_layer,hidden_layer))\n",
    "bh = np.random.uniform(size=(1,hidden_layer))\n",
    "\n",
    "# Output Layer\n",
    "wo = np.random.uniform(size=(hidden_layer,output_layer))\n",
    "bo = np.random.uniform(size=(1,output_layer))"
   ]
  },
  {
   "cell_type": "code",
   "execution_count": 57,
   "metadata": {},
   "outputs": [
    {
     "name": "stdout",
     "output_type": "stream",
     "text": [
      "X =  [[2. 9.]\n",
      " [1. 5.]\n",
      " [3. 6.]]\n",
      "Y =  [[92.]\n",
      " [86.]\n",
      " [89.]]\n"
     ]
    }
   ],
   "source": [
    "# Initialize a dataset , x is the input data and y is the target values we need to predict\n",
    "x = np.array(([2, 9], [1, 5], [3, 6]), dtype=float) \n",
    "y = np.array(([92], [86], [89]), dtype=float) \n",
    "print(\"X = \",x)\n",
    "print(\"Y = \",y)"
   ]
  },
  {
   "cell_type": "code",
   "execution_count": 58,
   "metadata": {},
   "outputs": [
    {
     "name": "stdout",
     "output_type": "stream",
     "text": [
      "[[1.        ]\n",
      " [0.93478261]\n",
      " [0.9673913 ]]\n"
     ]
    }
   ],
   "source": [
    "# We normalize the values of y by scaling them wrt the max value in y\n",
    "y = y / np.max(y)\n",
    "print(y)"
   ]
  },
  {
   "cell_type": "code",
   "execution_count": 59,
   "metadata": {},
   "outputs": [],
   "source": [
    "# In this network we will be using sigmoid as out activation function in the neurons\n",
    "def sigmoid(x):\n",
    "    return 1/(1+np.exp(-x))\n",
    "\n",
    "# We will also define a function to get the derivate of sigmoid , useful during back prop\n",
    "def sigmoid_grad(x):\n",
    "    return x*(1-x)"
   ]
  },
  {
   "cell_type": "code",
   "execution_count": 60,
   "metadata": {},
   "outputs": [],
   "source": [
    "# Learning rate , tells up how big the weight updates need to be on each iteration over training data\n",
    "lr = 0.01"
   ]
  },
  {
   "cell_type": "code",
   "execution_count": 61,
   "metadata": {},
   "outputs": [
    {
     "name": "stdout",
     "output_type": "stream",
     "text": [
      "wo (3, 1) , wh (2, 3) , bo (1, 1) , bh (1, 3)\n"
     ]
    }
   ],
   "source": [
    "print(f\"wo {wo.shape} , wh {wh.shape} , bo {bo.shape} , bh {bh.shape}\")"
   ]
  },
  {
   "cell_type": "code",
   "execution_count": 62,
   "metadata": {},
   "outputs": [],
   "source": [
    "# A log off error over epoch is stored in this list\n",
    "loss=[]\n",
    "\n",
    "# Loop epoch number of times\n",
    "for i in range(epoch):\n",
    "    \n",
    "    # forward propogation\n",
    "    \n",
    "    z1 = np.dot(x,wh) + bh # Linear combination\n",
    "    a1 = sigmoid(z1)       # Activation function\n",
    "    \n",
    "    #print(f\"z1 = {z1.shape} <= x shape = {x.shape} dot wh = {wh.shape}\")\n",
    "    \n",
    "    z2 = np.dot(a1,wo) + bo # Linear combination\n",
    "    a2 = sigmoid(z2)        # Activation function\n",
    "    \n",
    "    #print(f\"z2 = {z2.shape} <= a1 shape = {a1.shape} dot wo = {wo.shape}\")\n",
    "    \n",
    "    # Calculate Error\n",
    "    error = y - a2   # How far away is the target value y from the predicted value a2\n",
    "    \n",
    "    # log the error to loss list\n",
    "    loss.append(np.sum(error))\n",
    "    \n",
    "    #print(f\"error = {error.shape} <= y={y.shape} - a2 = {a2.shape}\")\n",
    "    \n",
    "    # Backprop Error\n",
    "    \n",
    "    # use the error value to calc d_a2, d_a2 tells us the gradient of a2 while moving in backward direction  \n",
    "    d_a2 = error * sigmoid_grad(a2)\n",
    "    \n",
    "    #print(f\"d_a2 = {d_a2.shape} <= sigmoid_grad(error) = {sigmoid_grad(error).shape} * error = {error.shape}\")\n",
    "\n",
    "    # Calculate error at hidden layer\n",
    "    error_h = np.dot(d_a2,wo.T)  # Think of this like linear combination in forward prop , but in reverse direction, hence d_a2 instead of z2\n",
    "    \n",
    "    #print(f\"error_h = {error_h.shape} <= d_a2.T = {d_a2.shape} dot wo = {wo.T.shape} \")\n",
    "\n",
    "    # Calculate derivate of a1, d_a1 = error_at_hidden_layer dot activation_grad_of current_layer_output\n",
    "    d_a1 = np.dot(error_h.T,sigmoid_grad(a1))\n",
    " \n",
    "    \n",
    "    # Update Weight\n",
    "    \n",
    "    # delta_weight = learning_rate * dot_product( prev_layer_activation , current_activation_derivative )\n",
    "    \n",
    "    #print(f\"d_wo = {wo.shape} <= a1.T shape = {a1.T.shape} dot d_a2 = {d_a2.shape} , \")\n",
    "    d_wo = lr * np.dot(a1.T,d_a2) # For output layer weight\n",
    "    \n",
    "    #print(f\"d_wh = {wh.shape} <=  x shape.T = {x.T.shape} dot d_a1 = {d_a1.shape} \")\n",
    "    # For hidden layer weight\n",
    "    d_wh = lr * np.dot(x.T , d_a1) # for input layer the prev_activation will be the training data itself\n",
    "    \n",
    "    # new weight += delta_weight , new_bias += sum(derivative of current layer activation)\n",
    "    wo += d_wo\n",
    "    bo += np.sum(d_a2,axis=0,keepdims=True)\n",
    "    wh += d_wh\n",
    "    bh += np.sum(d_a1,axis=0,keepdims=True)"
   ]
  },
  {
   "cell_type": "code",
   "execution_count": 63,
   "metadata": {},
   "outputs": [
    {
     "data": {
      "text/plain": [
       "[<matplotlib.lines.Line2D at 0x7ff6efdf84a8>]"
      ]
     },
     "execution_count": 63,
     "metadata": {},
     "output_type": "execute_result"
    },
    {
     "data": {
      "image/png": "[encoded data removed]",
      "text/plain": [
       "<Figure size 432x288 with 1 Axes>"
      ]
     },
     "metadata": {
      "needs_background": "light"
     },
     "output_type": "display_data"
    }
   ],
   "source": [
    "# you should see the curve slope downwards as epoch incr, this shows the networks error is getting smaller\n",
    "# i.e - predicted values are moving closer to expected values\n",
    "plt.plot(loss)"
   ]
  },
  {
   "cell_type": "code",
   "execution_count": 27,
   "metadata": {},
   "outputs": [],
   "source": [
    "# Simple function to make a prediction. Making prediction is same as making a forward pass.\n",
    "# The a2 value is the predicted ouput from the network.\n",
    "def predict(x):\n",
    "    z1 = np.dot(x,wh) + bh\n",
    "    a1 = sigmoid(z1)\n",
    "    #print(f\"z1 = {z1.shape} <= x shape = {x.shape} dot wh = {wh.shape}\")\n",
    "    \n",
    "    z2 = np.dot(a1,wo) + bo\n",
    "    a2 = sigmoid(z2)\n",
    "    #print(f\"z2 = {z2.shape} <= a1 shape = {a1.shape} dot wo = {wo.shape}\")\n",
    "    \n",
    "    return a2"
   ]
  },
  {
   "cell_type": "code",
   "execution_count": 64,
   "metadata": {},
   "outputs": [
    {
     "data": {
      "text/plain": [
       "array([[0.9663315]])"
      ]
     },
     "execution_count": 64,
     "metadata": {},
     "output_type": "execute_result"
    }
   ],
   "source": [
    "# Predict on the last training data\n",
    "predict(x[-1])"
   ]
  },
  {
   "cell_type": "code",
   "execution_count": 66,
   "metadata": {},
   "outputs": [
    {
     "data": {
      "text/plain": [
       "array([0.9673913])"
      ]
     },
     "execution_count": 66,
     "metadata": {},
     "output_type": "execute_result"
    }
   ],
   "source": [
    "# The expected value. You should see that this value and the one above is close\n",
    "y[-1]"
   ]
  },
  {
   "cell_type": "code",
   "execution_count": 67,
   "metadata": {},
   "outputs": [],
   "source": [
    "import matplotlib.pyplot as plt"
   ]
  },
  {
   "cell_type": "code",
   "execution_count": 68,
   "metadata": {},
   "outputs": [],
   "source": [
    "# make predictions for multiple values\n",
    "preds = []\n",
    "for s in x:\n",
    "    preds.append(predict(s))"
   ]
  },
  {
   "cell_type": "code",
   "execution_count": 69,
   "metadata": {},
   "outputs": [
    {
     "data": {
      "text/plain": [
       "[array([[0.96716406]]), array([[0.96541215]]), array([[0.9663315]])]"
      ]
     },
     "execution_count": 69,
     "metadata": {},
     "output_type": "execute_result"
    }
   ],
   "source": [
    "preds"
   ]
  },
  {
   "cell_type": "code",
   "execution_count": 70,
   "metadata": {},
   "outputs": [
    {
     "data": {
      "text/plain": [
       "array([[1.        ],\n",
       "       [0.93478261],\n",
       "       [0.9673913 ]])"
      ]
     },
     "execution_count": 70,
     "metadata": {},
     "output_type": "execute_result"
    }
   ],
   "source": [
    "y"
   ]
  },
  {
   "cell_type": "markdown",
   "metadata": {},
   "source": [
    "# END"
   ]
  }
 ],
 "metadata": {
  "kernelspec": {
   "display_name": "Python 3",
   "language": "python",
   "name": "python3"
  },
  "language_info": {
   "codemirror_mode": {
    "name": "ipython",
    "version": 3
   },
   "file_extension": ".py",
   "mimetype": "text/x-python",
   "name": "python",
   "nbconvert_exporter": "python",
   "pygments_lexer": "ipython3",
   "version": "3.6.9"
  }
 },
 "nbformat": 4,
 "nbformat_minor": 4
}
