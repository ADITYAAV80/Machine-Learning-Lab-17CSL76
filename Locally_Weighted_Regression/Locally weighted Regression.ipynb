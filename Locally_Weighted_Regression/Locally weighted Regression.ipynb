{
 "cells": [
  {
   "cell_type": "markdown",
   "metadata": {},
   "source": [
    "# Implementing Locally Weighted Regression "
   ]
  },
  {
   "cell_type": "markdown",
   "metadata": {},
   "source": [
    "Implement the non-parametric Locally Weighted Regressionalgorithm in order to fit data points. Select appropriate data set for your experiment and draw graphs."
   ]
  },
  {
   "cell_type": "code",
   "execution_count": 12,
   "metadata": {},
   "outputs": [],
   "source": [
    "import pandas as pd\n",
    "import numpy as np\n",
    "import matplotlib.pyplot as plt"
   ]
  },
  {
   "cell_type": "code",
   "execution_count": 13,
   "metadata": {},
   "outputs": [],
   "source": [
    "# no of data points to generate as part of the training set\n",
    "sample_size = 100"
   ]
  },
  {
   "cell_type": "code",
   "execution_count": 14,
   "metadata": {},
   "outputs": [
    {
     "data": {
      "text/plain": [
       "[<matplotlib.lines.Line2D at 0x7f7bf8ff4278>]"
      ]
     },
     "execution_count": 14,
     "metadata": {},
     "output_type": "execute_result"
    },
    {
     "data": {
      "image/png": "[encoded data removed]",
      "text/plain": [
       "<Figure size 432x288 with 1 Axes>"
      ]
     },
     "metadata": {
      "needs_background": "light"
     },
     "output_type": "display_data"
    }
   ],
   "source": [
    "# Let X be a set of equally distanced points between -10 and +10 , with as many points as sample_size\n",
    "X = np.linspace(-10,10,num=sample_size).reshape((sample_size,1))\n",
    "\n",
    "# Let Y be some quadratic function of X and lets also add some amt of noise to this target value Y\n",
    "Y =  np.power(X,2) - X*np.random.random() - 6 + np.random.normal(loc=0,scale=10,size=(sample_size,1))\n",
    "\n",
    "# Plot out n visualize\n",
    "plt.plot(X,Y,\"o\")"
   ]
  },
  {
   "cell_type": "code",
   "execution_count": 15,
   "metadata": {},
   "outputs": [
    {
     "name": "stdout",
     "output_type": "stream",
     "text": [
      "(100, 1)\n",
      "(100, 1)\n"
     ]
    }
   ],
   "source": [
    "print(X.shape)\n",
    "print(Y.shape)"
   ]
  },
  {
   "cell_type": "code",
   "execution_count": 16,
   "metadata": {},
   "outputs": [],
   "source": [
    "# Locally weighted Regression"
   ]
  },
  {
   "cell_type": "code",
   "execution_count": 17,
   "metadata": {},
   "outputs": [],
   "source": [
    "# Calculates the weight that needs to be assigned to all the data points give a value of tou \n",
    "def kernal_density_function(X,target_x,tou):\n",
    "    # e pow ( - (X-xi)^2/(2.tou^2) )\n",
    "    return np.exp((-np.sum(X-target_x,axis=1)**2)/(2*tou**2)).reshape(sample_size,1)"
   ]
  },
  {
   "cell_type": "code",
   "execution_count": 18,
   "metadata": {},
   "outputs": [],
   "source": [
    "# We now need to estimate a regression parameter( beta ) which will help us fit the curve to the training data.\n",
    "# beta = (X.T W X)^-1 * (X.T W y)"
   ]
  },
  {
   "cell_type": "code",
   "execution_count": 19,
   "metadata": {},
   "outputs": [],
   "source": [
    "# Initialize a list to store all the predictions\n",
    "preds=[]\n",
    "# We will go over each point along the X axis (i.e=X values) and try and predict the appropriate function mapping that is close to y\n",
    "for xi in np.linspace(-10,10,num=sample_size):\n",
    "    # Calculate weight value at a given point\n",
    "    W = kernal_density_function(X,xi,tou=1.5)\n",
    "    # Weight the input with the above calc'd value\n",
    "    XW = np.multiply(X,W)\n",
    "    # Preserve dimensions and apply the beta formaula as mentioned in above cell\n",
    "    XW = XW.reshape(XW.shape[0],1)\n",
    "    i = np.linalg.inv(XW.T.dot(X))\n",
    "    beta = i*XW.T.dot(Y)\n",
    "    # Append the predicted value at each sampling point\n",
    "    preds.append(beta[0]*xi)"
   ]
  },
  {
   "cell_type": "code",
   "execution_count": 20,
   "metadata": {},
   "outputs": [],
   "source": [
    "# print(X.shape)\n",
    "# print(Y.shape)\n",
    "# print(W.shape)\n",
    "# print(XW.shape)\n",
    "# print(beta.shape)"
   ]
  },
  {
   "cell_type": "code",
   "execution_count": 21,
   "metadata": {},
   "outputs": [
    {
     "data": {
      "text/plain": [
       "(100, 1)"
      ]
     },
     "execution_count": 21,
     "metadata": {},
     "output_type": "execute_result"
    }
   ],
   "source": [
    "# Convert list to numpy array\n",
    "preds = np.array(preds)\n",
    "preds.shape"
   ]
  },
  {
   "cell_type": "code",
   "execution_count": 23,
   "metadata": {},
   "outputs": [
    {
     "data": {
      "text/plain": [
       "[<matplotlib.lines.Line2D at 0x7f7bf8e72f60>]"
      ]
     },
     "execution_count": 23,
     "metadata": {},
     "output_type": "execute_result"
    },
    {
     "data": {
      "image/png": "[encoded data removed]",
      "text/plain": [
       "<Figure size 432x288 with 1 Axes>"
      ]
     },
     "metadata": {
      "needs_background": "light"
     },
     "output_type": "display_data"
    }
   ],
   "source": [
    "# Plot the original training values in green\n",
    "plt.scatter(X,Y,c='green')\n",
    "# Plot the sampled+predicted data points in red\n",
    "plt.plot(np.linspace(-10,10,num=sample_size),preds,\"o\",c='red')"
   ]
  },
  {
   "cell_type": "code",
   "execution_count": 24,
   "metadata": {},
   "outputs": [],
   "source": [
    "# Try changing the Y data in the initial cell to be any non linear function of X , you will see this method finds \n",
    "# a function mapping in all the cases.\n",
    "# Also try to vary the value of parameter tou to see how the curve changes."
   ]
  },
  {
   "cell_type": "markdown",
   "metadata": {},
   "source": [
    "# End"
   ]
  }
 ],
 "metadata": {
  "kernelspec": {
   "display_name": "Python 3",
   "language": "python",
   "name": "python3"
  },
  "language_info": {
   "codemirror_mode": {
    "name": "ipython",
    "version": 3
   },
   "file_extension": ".py",
   "mimetype": "text/x-python",
   "name": "python",
   "nbconvert_exporter": "python",
   "pygments_lexer": "ipython3",
   "version": "3.6.9"
  }
 },
 "nbformat": 4,
 "nbformat_minor": 4
}
